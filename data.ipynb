{
 "cells": [
  {
   "cell_type": "code",
   "execution_count": 34,
   "id": "29accb56-fa2c-4539-91b6-f66658300628",
   "metadata": {
    "tags": []
   },
   "outputs": [],
   "source": [
    "import pandas as pd"
   ]
  },
  {
   "cell_type": "code",
   "execution_count": 35,
   "id": "3d5cd143-9a5e-4869-bc47-6bd409f684e9",
   "metadata": {
    "tags": []
   },
   "outputs": [],
   "source": [
    "from bs4 import BeautifulSoup\n",
    "import requests "
   ]
  },
  {
   "cell_type": "code",
   "execution_count": 36,
   "id": "3bb540e8-02d9-45b7-80e5-43fa2019c3ec",
   "metadata": {
    "tags": []
   },
   "outputs": [],
   "source": [
    "url = 'https://results.eci.gov.in/'\n",
    "\n",
    "page = requests.get(url)\n",
    "\n",
    "soup = BeautifulSoup(page.text,'html.parser')"
   ]
  },
  {
   "cell_type": "code",
   "execution_count": 38,
   "id": "0d9a2a91-4e13-4a74-a189-e21bd7470abf",
   "metadata": {
    "tags": []
   },
   "outputs": [],
   "source": [
    "Headers =({'User-Agent':'Mozilla/5.0 (Windows NT 10.0; Win64; x64) AppleWebKit/537.36 (KHTML, like Gecko) Chrome/126.0.0.0 Safari/537.36','Accept-Language': 'en-US,en;q=0.5'})"
   ]
  },
  {
   "cell_type": "code",
   "execution_count": 39,
   "id": "d70135ac-5f22-41c5-bb33-65711a8be3a4",
   "metadata": {
    "tags": []
   },
   "outputs": [],
   "source": [
    "webpage = requests.get(url, headers = Headers)"
   ]
  },
  {
   "cell_type": "code",
   "execution_count": 40,
   "id": "894929bc-30b6-4511-977c-99d1ac7f9cc9",
   "metadata": {
    "tags": []
   },
   "outputs": [
    {
     "data": {
      "text/plain": [
       "<Response [200]>"
      ]
     },
     "execution_count": 40,
     "metadata": {},
     "output_type": "execute_result"
    }
   ],
   "source": [
    "webpage"
   ]
  },
  {
   "cell_type": "code",
   "execution_count": 42,
   "id": "4b9f4ae5-a34c-4364-a62d-c5147c3d1691",
   "metadata": {
    "tags": []
   },
   "outputs": [
    {
     "data": {
      "text/plain": [
       "bytes"
      ]
     },
     "execution_count": 42,
     "metadata": {},
     "output_type": "execute_result"
    }
   ],
   "source": [
    "type(webpage.content)"
   ]
  },
  {
   "cell_type": "code",
   "execution_count": 37,
   "id": "c44e3497-b0c8-4c20-b9c8-32c0660041fb",
   "metadata": {
    "tags": []
   },
   "outputs": [
    {
     "name": "stdout",
     "output_type": "stream",
     "text": [
      "<!DOCTYPE html>\n",
      "\n",
      "<html lang=\"en\">\n",
      "<head>\n",
      "<!-- Required meta tags -->\n",
      "<meta charset=\"utf-8\"/>\n",
      "<meta content=\"width=device-width, initial-scale=1\" name=\"viewport\"/>\n",
      "<!-- Bootstrap CSS -->\n",
      "<link href=\"css/bootstrap.min.css\" rel=\"stylesheet\"/>\n",
      "<link href=\"css/custom.css\" rel=\"stylesheet\"/>\n",
      "<link href=\"css/responsive.css\" rel=\"stylesheet\"/>\n",
      "<link href=\"css/font.css\" rel=\"stylesheet\"/>\n",
      "<link href=\"img/icons/favicon.ico\" rel=\"shortcut icon\" type=\"image/x-icon\"/>\n",
      "<title>Election Commission of India</title>\n",
      "<style type=\"text/css\">\n",
      "</style>\n",
      "<script>!function(a){var e=\"https://s.go-mpulse.net/boomerang/\",t=\"addEventListener\";if(\"False\"==\"True\")a.BOOMR_config=a.BOOMR_config||{},a.BOOMR_config.PageParams=a.BOOMR_config.PageParams||{},a.BOOMR_config.PageParams.pci=!0,e=\"https://s2.go-mpulse.net/boomerang/\";if(window.BOOMR_API_key=\"C8JDA-BHWH8-9MQ5M-HKZCP-GH7SB\",function(){function n(e){a.BOOMR_onload=e&&e.timeStamp||(new Date).getTime()}if(!a.BOOMR||!a.BOOMR.version&&!a.BOOMR.snippetExecuted){a.BOOMR=a.BOOMR||{},a.BOOMR.snippetExecuted=!0;var i,_,o,r=document.createElement(\"iframe\");if(a[t])a[t](\"load\",n,!1);else if(a.attachEvent)a.attachEvent(\"onload\",n);r.src=\"javascript:void(0)\",r.title=\"\",r.role=\"presentation\",(r.frameElement||r).style.cssText=\"width:0;height:0;border:0;display:none;\",o=document.getElementsByTagName(\"script\")[0],o.parentNode.insertBefore(r,o);try{_=r.contentWindow.document}catch(O){i=document.domain,r.src=\"javascript:var d=document.open();d.domain='\"+i+\"';void(0);\",_=r.contentWindow.document}_.open()._l=function(){var a=this.createElement(\"script\");if(i)this.domain=i;a.id=\"boomr-if-as\",a.src=e+\"C8JDA-BHWH8-9MQ5M-HKZCP-GH7SB\",BOOMR_lstart=(new Date).getTime(),this.body.appendChild(a)},_.write(\"<bo\"+'dy onload=\"document._l();\">'),_.close()}}(),\"\".length>0)if(a&&\"performance\"in a&&a.performance&&\"function\"==typeof a.performance.setResourceTimingBufferSize)a.performance.setResourceTimingBufferSize();!function(){if(BOOMR=a.BOOMR||{},BOOMR.plugins=BOOMR.plugins||{},!BOOMR.plugins.AK){var e=\"\"==\"true\"?1:0,t=\"\",n=\"ghgikyix34xwszuboxuq-f-976d8c9b3-clientnsv4-s.akamaihd.net\",i=\"false\"==\"true\"?2:1,_={\"ak.v\":\"37\",\"ak.cp\":\"1109753\",\"ak.ai\":parseInt(\"537121\",10),\"ak.ol\":\"0\",\"ak.cr\":499,\"ak.ipv\":4,\"ak.proto\":\"http/1.1\",\"ak.rid\":\"5f5ce7c\",\"ak.r\":38805,\"ak.a2\":e,\"ak.m\":\"b\",\"ak.n\":\"ff\",\"ak.bpcip\":\"49.204.133.0\",\"ak.cport\":52750,\"ak.gh\":\"23.223.47.101\",\"ak.quicv\":\"\",\"ak.tlsv\":\"tls1.3\",\"ak.0rtt\":\"\",\"ak.csrc\":\"-\",\"ak.acc\":\"reno\",\"ak.t\":\"1719760361\",\"ak.ak\":\"hOBiQwZUYzCg5VSAfCLimQ==aAmlwATTv1NWrUvPI8uNUbLESam9K7KOLK0rrJ/TuLn/uZmpIlqm3R+wfW9Wo2okODskaSnaBOntKWeJdFQy/UsSHSqnJ4zUIwmGak1G2xJ24wCgZxzCfF5MIkD6NQMgLjEAUCak0BhvHaNWio3yPuTO7hodyJSLUjoy+WKVmBrNSGmKn5p8csdfdxiGxWHkl/U0ATBL8CxJplNQEDeH3SEeBvin+ht4vrC3+uJDeVZQ2+8W2blTW2X4l3ZeGgIRUoJt8cQAOFoQwVDLXkPTFjDVZji+KqO6ro5D9KY7KGYQxYxJFV5TOIxEkG/4df541/EwlPG5UZE0Pz0Eovh9SJHdVFe9k3o3vU+j1NIBM1UAmOin9Wo/+GBf0lpXOtdpxE6hmu9EMg58oqFn7e8fj9Z1Yl1uofcwbb+ADrbVcfs=\",\"ak.pv\":\"86\",\"ak.dpoabenc\":\"\",\"ak.tf\":i};if(\"\"!==t)_[\"ak.ruds\"]=t;var o={i:!1,av:function(e){var t=\"http.initiator\";if(e&&(!e[t]||\"spa_hard\"===e[t]))_[\"ak.feo\"]=void 0!==a.aFeoApplied?1:0,BOOMR.addVar(_)},rv:function(){var a=[\"ak.bpcip\",\"ak.cport\",\"ak.cr\",\"ak.csrc\",\"ak.gh\",\"ak.ipv\",\"ak.m\",\"ak.n\",\"ak.ol\",\"ak.proto\",\"ak.quicv\",\"ak.tlsv\",\"ak.0rtt\",\"ak.r\",\"ak.acc\",\"ak.t\",\"ak.tf\"];BOOMR.removeVar(a)}};BOOMR.plugins.AK={akVars:_,akDNSPreFetchDomain:n,init:function(){if(!o.i){var a=BOOMR.subscribe;a(\"before_beacon\",o.av,null,null),a(\"onbeacon\",o.rv,null,null),o.i=!0}return this},is_complete:function(){return!0}}}}()}(window);</script></head>\n",
      "<body>\n",
      "<header class=\"header\">\n",
      "<div class=\"logo-search\">\n",
      "<div class=\"mob-btn\"><img alt=\"\" src=\"img/icons/menu.png\"/></div>\n",
      "<div class=\"logo\"><a href=\"index.htm\"><img alt=\"\" src=\"img/eci-logo.png\"/></a></div>\n",
      "<div class=\"lft-menu\">\n",
      "</div>\n",
      "</div>\n",
      "</header>\n",
      "<div class=\"dis-info\">\n",
      "<div class=\"container-fluid\">\n",
      "<div class=\"d-flex align-items-center justify-content-center\">\n",
      "<h6 class=\"mb-0 mx-2\">Disclaimer:</h6>\n",
      "<p class=\"mb-0\"> ECI is displaying the information as being filled in the system by the Returning Officers from\n",
      "          their respective Counting Centres.The final data for each AC/PC will be shared in Form-20.</p>\n",
      "</div>\n",
      "</div>\n",
      "</div><!-- End of dis-info Div -->\n",
      "<main class=\"inner-content\">\n",
      "<div class=\"page-title\">\n",
      "<h1>General Election to Parliamentary/Assembly Constituencies: Trends &amp; Results June-2024</h1>\n",
      "</div>\n",
      "<div class=\"container-fluid\">\n",
      "<section class=\"state-wrap\">\n",
      "<div class=\"container-fluid container-sm\">\n",
      "<div class=\"row justify-content-center\">\n",
      "<div class=\"col-md-12 col-12\">\n",
      "<div class=\"state-item blue-bg pc-wrap\">\n",
      "<a href=\"https://results.eci.gov.in/PcResultGenJune2024/index.htm\">\n",
      "<h2>Parliamentary\n",
      "                    Constituencies</h2>\n",
      "<h1>543</h1>\n",
      "</a>\n",
      "</div>\n",
      "</div>\n",
      "<div class=\"col-md-4 col-12\">\n",
      "<div class=\"state-item olive-bg\">\n",
      "<a href=\"https://results.eci.gov.in/AcResultGenJune2024/index.htm\" target=\"_blank\">\n",
      "<h2>Andhra Pradesh</h2>\n",
      "<h1>175</h1>\n",
      "<h5>Assembly Constituencies</h5>\n",
      "</a>\n",
      "</div>\n",
      "</div>\n",
      "<div class=\"col-md-4 col-12\">\n",
      "<div class=\"state-item pine-bg\">\n",
      "<a href=\"https://results.eci.gov.in/AcResultGenJune2024/index.htm\" target=\"_blank\">\n",
      "<h2>Odisha</h2>\n",
      "<h1>147</h1>\n",
      "<h5>Assembly Constituencies</h5>\n",
      "</a>\n",
      "</div>\n",
      "</div>\n",
      "<div class=\"col-md-4 col-12\">\n",
      "<div class=\"state-item gry-bg\">\n",
      "<a href=\"https://results.eci.gov.in/AcResultByeJune2024/\" target=\"_blank\">\n",
      "<h2>Bye Elections</h2>\n",
      "<h1>25</h1>\n",
      "<h5>Assembly Constituencies</h5>\n",
      "</a>\n",
      "</div>\n",
      "</div>\n",
      "<div class=\"col-md-6 col-12\"><a class=\"btn btn-big btn-primary\" href=\"https://results.eci.gov.in/AcResultGen2ndJune2024/index.htm\" target=\"_blank\">Arunachal Pradesh</a>\n",
      "</div>\n",
      "<div class=\"col-md-6 col-12\"><a class=\"btn btn-big btn-primary\" href=\"https://results.eci.gov.in/AcResultGen2ndJune2024/index.htm\" target=\"_blank\">Sikkim</a></div>\n",
      "</div>\n",
      "</div>\n",
      "</section>\n",
      "</div><!-- End of container-fluid Div -->\n",
      "</main>\n",
      "<footer class=\"footer\">\n",
      "<div class=\"foot-info\">\n",
      "<div class=\"container-fluid\">\n",
      "<div class=\"row\">\n",
      "<div class=\"col-md-6 col-12\">\n",
      "<h6 class=\"mb-1\">Download Voter helpline app to see results on mobile</h6>\n",
      "</div>\n",
      "<div class=\"col-md-6 col-12\">\n",
      "<ul class=\"d-flex align-items-center items-end\">\n",
      "<li><a href=\"https://play.google.com/store/apps/details?id=com.eci.citizen\" target=\"_blank\"><img alt=\"\" src=\"img/icons/android.png\"/></a></li>\n",
      "<li><a href=\"https://apps.apple.com/in/app/voter-helpline/id1456535004\" target=\"_blank\"><img alt=\"\" src=\"img/icons/apple.png\"/></a></li>\n",
      "</ul>\n",
      "</div>\n",
      "</div>\n",
      "</div>\n",
      "</div>\n",
      "</footer>\n",
      "<!-- Optional JavaScript; choose one of the two! -->\n",
      "<script src=\"js/jquery-3.6.0.min.js\" type=\"text/javascript\"></script>\n",
      "<!-- Option 1: Bootstrap Bundle with Popper -->\n",
      "<script src=\"js/bootstrap.bundle.min.js\" type=\"text/javascript\"></script>\n",
      "<!-- Option 3: Custom jQuery Lab -->\n",
      "<script src=\"js/custom-jQuery.js\" type=\"text/javascript\"></script>\n",
      "</body>\n",
      "</html>\n"
     ]
    }
   ],
   "source": [
    "print(soup)"
   ]
  },
  {
   "cell_type": "code",
   "execution_count": null,
   "id": "52d31bc7-b914-4e62-a225-6fad6ce24dcc",
   "metadata": {},
   "outputs": [],
   "source": []
  },
  {
   "cell_type": "code",
   "execution_count": null,
   "id": "d4cda6f6-ae5e-40d8-afac-abc8960d5ad7",
   "metadata": {},
   "outputs": [],
   "source": []
  }
 ],
 "metadata": {
  "kernelspec": {
   "display_name": "Python 3 (ipykernel)",
   "language": "python",
   "name": "python3"
  },
  "language_info": {
   "codemirror_mode": {
    "name": "ipython",
    "version": 3
   },
   "file_extension": ".py",
   "mimetype": "text/x-python",
   "name": "python",
   "nbconvert_exporter": "python",
   "pygments_lexer": "ipython3",
   "version": "3.11.5"
  }
 },
 "nbformat": 4,
 "nbformat_minor": 5
}
